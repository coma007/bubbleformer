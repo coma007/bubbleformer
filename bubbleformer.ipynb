{
 "cells": [
  {
   "cell_type": "code",
   "execution_count": 43,
   "id": "051af5ce",
   "metadata": {},
   "outputs": [
    {
     "name": "stdout",
     "output_type": "stream",
     "text": [
      "The autoreload extension is already loaded. To reload it, use:\n",
      "  %reload_ext autoreload\n"
     ]
    }
   ],
   "source": [
    "%load_ext autoreload\n",
    "%autoreload 2"
   ]
  },
  {
   "cell_type": "code",
   "execution_count": 44,
   "id": "f7e39f17",
   "metadata": {},
   "outputs": [],
   "source": [
    "import torch\n",
    "\n",
    "device = torch.device(\"cuda\")"
   ]
  },
  {
   "cell_type": "code",
   "execution_count": 45,
   "id": "666ea633",
   "metadata": {},
   "outputs": [],
   "source": [
    "dataset_size = \"small\"\n",
    "\n",
    "news_dataset = \"news.tsv\"\n",
    "behaviors_dataset = \"behaviors.tsv\""
   ]
  },
  {
   "cell_type": "code",
   "execution_count": 46,
   "id": "468ae5d3",
   "metadata": {},
   "outputs": [],
   "source": [
    "import data_loader\n",
    "\n",
    "data_train_nws, data_dev_nws = data_loader.load_data(dataset_size, news_dataset)\n",
    "# display(data_train_nws)"
   ]
  },
  {
   "cell_type": "code",
   "execution_count": 82,
   "id": "c634b264",
   "metadata": {},
   "outputs": [],
   "source": [
    "titles = data_train_nws[3].tolist()[0:10]"
   ]
  },
  {
   "cell_type": "code",
   "execution_count": 290,
   "id": "a80fcb63",
   "metadata": {},
   "outputs": [
    {
     "name": "stderr",
     "output_type": "stream",
     "text": [
      "[autoreload of bert failed: Traceback (most recent call last):\n",
      "  File \"/opt/conda/lib/python3.10/site-packages/IPython/extensions/autoreload.py\", line 261, in check\n",
      "    superreload(m, reload, self.old_objects)\n",
      "  File \"/opt/conda/lib/python3.10/site-packages/IPython/extensions/autoreload.py\", line 484, in superreload\n",
      "    update_generic(old_obj, new_obj)\n",
      "  File \"/opt/conda/lib/python3.10/site-packages/IPython/extensions/autoreload.py\", line 381, in update_generic\n",
      "    update(a, b)\n",
      "  File \"/opt/conda/lib/python3.10/site-packages/IPython/extensions/autoreload.py\", line 333, in update_class\n",
      "    if update_generic(old_obj, new_obj):\n",
      "  File \"/opt/conda/lib/python3.10/site-packages/IPython/extensions/autoreload.py\", line 381, in update_generic\n",
      "    update(a, b)\n",
      "  File \"/opt/conda/lib/python3.10/site-packages/IPython/extensions/autoreload.py\", line 293, in update_function\n",
      "    setattr(old, name, getattr(new, name))\n",
      "ValueError: __init__() requires a code object with 1 free vars, not 0\n",
      "]\n",
      "Some weights of the model checkpoint at bert-base-uncased were not used when initializing BertModel: ['cls.seq_relationship.bias', 'cls.predictions.transform.LayerNorm.bias', 'cls.seq_relationship.weight', 'cls.predictions.transform.dense.bias', 'cls.predictions.bias', 'cls.predictions.decoder.weight', 'cls.predictions.transform.dense.weight', 'cls.predictions.transform.LayerNorm.weight']\n",
      "- This IS expected if you are initializing BertModel from the checkpoint of a model trained on another task or with another architecture (e.g. initializing a BertForSequenceClassification model from a BertForPreTraining model).\n",
      "- This IS NOT expected if you are initializing BertModel from the checkpoint of a model that you expect to be exactly identical (initializing a BertForSequenceClassification model from a BertForSequenceClassification model).\n"
     ]
    }
   ],
   "source": [
    "import model as nrms\n",
    "\n",
    "model = nrms.NRMS(device, titles)\n",
    "model.to(device)\n",
    "result = model()"
   ]
  },
  {
   "cell_type": "code",
   "execution_count": 294,
   "id": "7a013faa",
   "metadata": {},
   "outputs": [
    {
     "data": {
      "text/plain": [
       "tensor([[0.0048],\n",
       "        [0.0053],\n",
       "        [0.0054],\n",
       "        [0.0043],\n",
       "        [0.0056],\n",
       "        [0.0044],\n",
       "        [0.0054],\n",
       "        [0.0055],\n",
       "        [0.0057],\n",
       "        [0.0051],\n",
       "        [0.0058],\n",
       "        [0.0044],\n",
       "        [0.0044],\n",
       "        [0.0052]], device='cuda:0', grad_fn=<MmBackward0>)"
      ]
     },
     "execution_count": 294,
     "metadata": {},
     "output_type": "execute_result"
    }
   ],
   "source": [
    "result[1][0]"
   ]
  },
  {
   "cell_type": "code",
   "execution_count": 157,
   "id": "e2291c6f",
   "metadata": {},
   "outputs": [
    {
     "data": {
      "text/plain": [
       "['The Brands Queen Elizabeth, Prince Charles, and Prince Philip Swear By',\n",
       " '50 Worst Habits For Belly Fat',\n",
       " \"The Cost of Trump's Aid Freeze in the Trenches of Ukraine's War\",\n",
       " \"I Was An NBA Wife. Here's How It Affected My Mental Health.\",\n",
       " 'How to Get Rid of Skin Tags, According to a Dermatologist',\n",
       " 'Should NFL be able to fine players for criticizing officiating?',\n",
       " \"It's been Orlando's hottest October ever so far, but cooler temperatures on the way\",\n",
       " 'Chile: Three die in supermarket fire amid protests',\n",
       " 'Best PS5 games: top PlayStation 5 titles to look forward to',\n",
       " 'How to report weather-related closings, delays']"
      ]
     },
     "execution_count": 157,
     "metadata": {},
     "output_type": "execute_result"
    }
   ],
   "source": [
    "titles"
   ]
  },
  {
   "cell_type": "code",
   "execution_count": 182,
   "id": "cc84e4a1",
   "metadata": {},
   "outputs": [
    {
     "data": {
      "text/plain": [
       "torch.Size([10, 14, 768])"
      ]
     },
     "execution_count": 182,
     "metadata": {},
     "output_type": "execute_result"
    }
   ],
   "source": [
    "model.titles_embbedings.shape"
   ]
  }
 ],
 "metadata": {
  "kernelspec": {
   "display_name": "Python 3 (ipykernel)",
   "language": "python",
   "name": "python3"
  },
  "language_info": {
   "codemirror_mode": {
    "name": "ipython",
    "version": 3
   },
   "file_extension": ".py",
   "mimetype": "text/x-python",
   "name": "python",
   "nbconvert_exporter": "python",
   "pygments_lexer": "ipython3",
   "version": "3.10.9"
  }
 },
 "nbformat": 4,
 "nbformat_minor": 5
}
