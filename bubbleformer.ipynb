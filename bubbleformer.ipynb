{
 "cells": [
  {
   "cell_type": "code",
   "execution_count": 27,
   "id": "051af5ce",
   "metadata": {},
   "outputs": [
    {
     "name": "stdout",
     "output_type": "stream",
     "text": [
      "The autoreload extension is already loaded. To reload it, use:\n",
      "  %reload_ext autoreload\n"
     ]
    }
   ],
   "source": [
    "%load_ext autoreload\n",
    "%autoreload 2"
   ]
  },
  {
   "cell_type": "code",
   "execution_count": 2,
   "id": "f7e39f17",
   "metadata": {},
   "outputs": [],
   "source": [
    "import torch\n",
    "from config import hparams\n",
    "\n",
    "device = torch.device(hparams['device'])"
   ]
  },
  {
   "cell_type": "code",
   "execution_count": 3,
   "id": "666ea633",
   "metadata": {},
   "outputs": [],
   "source": [
    "dataset_size = \"small\"\n",
    "news_dataset = \"news.tsv\"\n",
    "behaviors_dataset = \"behaviors.tsv\""
   ]
  },
  {
   "cell_type": "code",
   "execution_count": 59,
   "id": "468ae5d3",
   "metadata": {},
   "outputs": [],
   "source": [
    "import data_loader\n",
    "data_train_nws = data_loader.load_data(dataset_size, news_dataset)"
   ]
  },
  {
   "cell_type": "code",
   "execution_count": 88,
   "id": "c634b264",
   "metadata": {},
   "outputs": [
    {
     "name": "stdout",
     "output_type": "stream",
     "text": [
      "11\n"
     ]
    }
   ],
   "source": [
    "num_of_titles = 2\n",
    "titles = data_train_nws[3].tolist()[0:num_of_titles]\n",
    "max_title_len = max([len(title.split(\" \")) for title in titles])\n",
    "hparams['max_title_len'] = max_title_len\n",
    "print(max_title_len)"
   ]
  },
  {
   "cell_type": "code",
   "execution_count": 89,
   "id": "41c1c6c0",
   "metadata": {},
   "outputs": [],
   "source": [
    "#data Loader\n",
    "\n",
    "from torch.utils.data import DataLoader\n",
    "titles_dataset = data_loader.get_dataset(dataset_size, news_dataset, num_of_titles)\n",
    "titles_data_loader = DataLoader(titles_dataset, batch_size=1, shuffle=False)"
   ]
  },
  {
   "cell_type": "code",
   "execution_count": 86,
   "id": "cb4f4ec3",
   "metadata": {},
   "outputs": [
    {
     "name": "stdout",
     "output_type": "stream",
     "text": [
      "['The Brands Queen Elizabeth, Prince Charles, and Prince Philip Swear By']\n",
      "['50 Worst Habits For Belly Fat']\n"
     ]
    }
   ],
   "source": [
    "for batch in titles_data_loader:\n",
    "    print(batch)\n",
    "    "
   ]
  },
  {
   "cell_type": "code",
   "execution_count": 92,
   "id": "a80fcb63",
   "metadata": {},
   "outputs": [
    {
     "name": "stderr",
     "output_type": "stream",
     "text": [
      "Some weights of the model checkpoint at bert-base-uncased were not used when initializing BertModel: ['cls.predictions.bias', 'cls.predictions.decoder.weight', 'cls.predictions.transform.LayerNorm.bias', 'cls.predictions.transform.LayerNorm.weight', 'cls.seq_relationship.bias', 'cls.seq_relationship.weight', 'cls.predictions.transform.dense.weight', 'cls.predictions.transform.dense.bias']\n",
      "- This IS expected if you are initializing BertModel from the checkpoint of a model trained on another task or with another architecture (e.g. initializing a BertForSequenceClassification model from a BertForPreTraining model).\n",
      "- This IS NOT expected if you are initializing BertModel from the checkpoint of a model that you expect to be exactly identical (initializing a BertForSequenceClassification model from a BertForSequenceClassification model).\n"
     ]
    }
   ],
   "source": [
    "import model as nrms\n",
    "\n",
    "model = nrms.NRMS(hparams, titles_data_loader)\n",
    "\n",
    "model.to(device)\n",
    "result = model()\n"
   ]
  },
  {
   "cell_type": "markdown",
   "id": "2bc9897e",
   "metadata": {},
   "source": [
    "### test bert with batches and dataloader"
   ]
  },
  {
   "cell_type": "code",
   "execution_count": 93,
   "id": "7d0e068a",
   "metadata": {},
   "outputs": [
    {
     "name": "stderr",
     "output_type": "stream",
     "text": [
      "Some weights of the model checkpoint at bert-base-uncased were not used when initializing BertModel: ['cls.predictions.bias', 'cls.predictions.decoder.weight', 'cls.predictions.transform.LayerNorm.bias', 'cls.predictions.transform.LayerNorm.weight', 'cls.seq_relationship.bias', 'cls.seq_relationship.weight', 'cls.predictions.transform.dense.weight', 'cls.predictions.transform.dense.bias']\n",
      "- This IS expected if you are initializing BertModel from the checkpoint of a model trained on another task or with another architecture (e.g. initializing a BertForSequenceClassification model from a BertForPreTraining model).\n",
      "- This IS NOT expected if you are initializing BertModel from the checkpoint of a model that you expect to be exactly identical (initializing a BertForSequenceClassification model from a BertForSequenceClassification model).\n"
     ]
    }
   ],
   "source": [
    "from bert import Bert\n",
    "\n",
    "bert = Bert(device, titles_data_loader,max_title_len)\n",
    "        \n",
    "titles_embbedings = bert.embbed_titles()"
   ]
  },
  {
   "cell_type": "code",
   "execution_count": 43,
   "id": "2cfa2254",
   "metadata": {},
   "outputs": [
    {
     "data": {
      "text/plain": [
       "14"
      ]
     },
     "execution_count": 43,
     "metadata": {},
     "output_type": "execute_result"
    }
   ],
   "source": [
    "len(result[0][0])"
   ]
  },
  {
   "cell_type": "code",
   "execution_count": 32,
   "id": "7a013faa",
   "metadata": {},
   "outputs": [
    {
     "data": {
      "text/plain": [
       "tensor([[0.0111],\n",
       "        [0.0111],\n",
       "        [0.0110],\n",
       "        [0.0113],\n",
       "        [0.0112],\n",
       "        [0.0096],\n",
       "        [0.0101],\n",
       "        [0.0127],\n",
       "        [0.0112],\n",
       "        [0.0106],\n",
       "        [0.0101],\n",
       "        [0.0115],\n",
       "        [0.0115],\n",
       "        [0.0109]], grad_fn=<MmBackward0>)"
      ]
     },
     "execution_count": 32,
     "metadata": {},
     "output_type": "execute_result"
    }
   ],
   "source": [
    "result[1][0]"
   ]
  },
  {
   "cell_type": "code",
   "execution_count": null,
   "id": "e2291c6f",
   "metadata": {},
   "outputs": [
    {
     "data": {
      "text/plain": [
       "['The Brands Queen Elizabeth, Prince Charles, and Prince Philip Swear By',\n",
       " '50 Worst Habits For Belly Fat',\n",
       " \"The Cost of Trump's Aid Freeze in the Trenches of Ukraine's War\",\n",
       " \"I Was An NBA Wife. Here's How It Affected My Mental Health.\",\n",
       " 'How to Get Rid of Skin Tags, According to a Dermatologist',\n",
       " 'Should NFL be able to fine players for criticizing officiating?',\n",
       " \"It's been Orlando's hottest October ever so far, but cooler temperatures on the way\",\n",
       " 'Chile: Three die in supermarket fire amid protests',\n",
       " 'Best PS5 games: top PlayStation 5 titles to look forward to',\n",
       " 'How to report weather-related closings, delays']"
      ]
     },
     "execution_count": 157,
     "metadata": {},
     "output_type": "execute_result"
    }
   ],
   "source": [
    "titles"
   ]
  },
  {
   "cell_type": "code",
   "execution_count": null,
   "id": "cc84e4a1",
   "metadata": {},
   "outputs": [
    {
     "data": {
      "text/plain": [
       "torch.Size([10, 14, 768])"
      ]
     },
     "execution_count": 182,
     "metadata": {},
     "output_type": "execute_result"
    }
   ],
   "source": [
    "model.titles_embbedings.shape"
   ]
  }
 ],
 "metadata": {
  "kernelspec": {
   "display_name": "Python 3 (ipykernel)",
   "language": "python",
   "name": "python3"
  },
  "language_info": {
   "codemirror_mode": {
    "name": "ipython",
    "version": 3
   },
   "file_extension": ".py",
   "mimetype": "text/x-python",
   "name": "python",
   "nbconvert_exporter": "python",
   "pygments_lexer": "ipython3",
   "version": "3.11.4"
  }
 },
 "nbformat": 4,
 "nbformat_minor": 5
}
